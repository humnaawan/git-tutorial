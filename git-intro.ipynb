{
 "cells": [
  {
   "cell_type": "markdown",
   "metadata": {
    "slideshow": {
     "slide_type": "slide"
    }
   },
   "source": [
    "# Intro to Git and GitHub\n",
    "\n",
    "\n",
    "$~~~~~~~~~~~~~~~~~~~~~~$\n",
    "\n",
    "#### DESI Pre-Meeting, Session III\n",
    "#### Friday, June 11, 2021\n",
    "\n",
    "$~~~~~~~~~~~~~~~~~~~~~~$\n",
    "\n",
    "_This tutorial is adapted from [a tutorial presented by Jake Vanderplas in the LSST Data Science Fellowship Program](https://github.com/jakevdp/git-intro/blob/master/git-intro.ipynb) as well as materials from [Phil Marshall's gettingStarted repo](https://github.com/drphilmarshall/GettingStarted )._"
   ]
  },
  {
   "cell_type": "markdown",
   "metadata": {
    "slideshow": {
     "slide_type": "slide"
    }
   },
   "source": [
    "## Git: the tool you didn't know you needed\n",
    "\n",
    "Lets cover some basics before dealing with Git and GitHub directly"
   ]
  },
  {
   "cell_type": "markdown",
   "metadata": {
    "slideshow": {
     "slide_type": "slide"
    }
   },
   "source": [
    "## What is Version Control?\n",
    "\n",
    "We all implement it, e.g.,\n",
    "* paper_draft_v1.pdf\n",
    "* paper_draft_v2.pdf\n",
    "* paper_draft_v2a.pdf\n",
    "* paper_draft_v2a_1.pdf\n",
    "...\n",
    "\n",
    "\n",
    "$~~~~~~~~~~~~~~~~~~~~~~$\n",
    "\n",
    "and we all know the perils of that kind of file-handling."
   ]
  },
  {
   "cell_type": "markdown",
   "metadata": {
    "slideshow": {
     "slide_type": "slide"
    }
   },
   "source": [
    "## What is Version Control?\n",
    "\n",
    "#### From Wikipedia:\n",
    "“.. management of changes to documents, programs, and other information stored as computer files.”\n",
    "\n",
    "#### Reproducibility?\n",
    "\n",
    "* Tracking and recreating every step of your work\n",
    "* In the software world: it's called *Version Control*!\n",
    "\n",
    "#### What do (good) version control tools give you?\n",
    "\n",
    "* Peace of mind (backups)\n",
    "* Freedom (exploratory branching)\n",
    "* Collaboration (synchronization)"
   ]
  },
  {
   "cell_type": "markdown",
   "metadata": {
    "slideshow": {
     "slide_type": "slide"
    }
   },
   "source": [
    "## Git is a version control software\n",
    "\n",
    "It allows preserving the various states of your work, and can work for basically anything including\n",
    "* Code management\n",
    "* Custom style files and macros\n",
    "* Collaborative writing (group projects, proposals)\n",
    "* Everyday research\n",
    "* Personal website history tracking"
   ]
  },
  {
   "cell_type": "markdown",
   "metadata": {
    "slideshow": {
     "slide_type": "fragment"
    }
   },
   "source": [
    "## GitHub is a cloud based service for version control via Git.\n",
    "\n"
   ]
  },
  {
   "cell_type": "markdown",
   "metadata": {
    "slideshow": {
     "slide_type": "slide"
    }
   },
   "source": [
    "## The plan for this tutorial\n",
    "\n",
    "- [A quick overview of Git key concepts](#overview)\n",
    "- [Getting setup with GitHub](#github)\n",
    "- [A (very) simple exercise to get you going](#exercise)\n",
    "- [Short intro to `desihub`](#desihub)\n",
    "- [Further resources](#resources)"
   ]
  },
  {
   "cell_type": "markdown",
   "metadata": {
    "slideshow": {
     "slide_type": "skip"
    }
   },
   "source": [
    "<a id=\"overview\"></a>"
   ]
  },
  {
   "cell_type": "markdown",
   "metadata": {
    "slideshow": {
     "slide_type": "slide"
    }
   },
   "source": [
    "## High level picture: overview of key concepts"
   ]
  },
  {
   "cell_type": "markdown",
   "metadata": {
    "slideshow": {
     "slide_type": "fragment"
    }
   },
   "source": [
    "Non-git workflow for say a *single* Word document\n",
    "- Add text\n",
    "- Save it (preserving the snapshot of the work at this time)\n",
    "- Add more text\n",
    "- Save it (preserving the snapshot of the work at this new time _while overwriting the old version_)"
   ]
  },
  {
   "cell_type": "markdown",
   "metadata": {
    "slideshow": {
     "slide_type": "slide"
    }
   },
   "source": [
    "In a version controlled framework\n",
    "- Add text\n",
    "- **Commit** it (preserving the snapshot of the work at this time)\n",
    "- Add more text\n",
    "- **Commit** it (preserving the snapshot of the work at this new time)"
   ]
  },
  {
   "cell_type": "markdown",
   "metadata": {
    "slideshow": {
     "slide_type": "fragment"
    }
   },
   "source": [
    "Then, a **repository** is a group of *linked* commits. You can easily see what has changed between commits, revert from one to other, etc.\n",
    "\n",
    "![](files/images/threecommits.png)\n",
    "\n",
    "\n",
    "\n",
    "\n",
    "Credit: ProGit book, by Scott Chacon, CC License."
   ]
  },
  {
   "cell_type": "markdown",
   "metadata": {
    "slideshow": {
     "slide_type": "slide"
    }
   },
   "source": [
    "The git repository is generally hosted on a **remote**, which syncs changes across the copies of the git repository (that are connected to it)"
   ]
  },
  {
   "cell_type": "markdown",
   "metadata": {
    "slideshow": {
     "slide_type": "fragment"
    }
   },
   "source": [
    "When you make local changes, you **push** them to the remote."
   ]
  },
  {
   "cell_type": "markdown",
   "metadata": {
    "slideshow": {
     "slide_type": "fragment"
    }
   },
   "source": [
    "When there are changes others have made that you want to get in your local copy, you **pull** them from the remote."
   ]
  },
  {
   "cell_type": "markdown",
   "metadata": {
    "slideshow": {
     "slide_type": "fragment"
    }
   },
   "source": [
    "$~~~~~~~~~~~~~~~~~$\n",
    "\n",
    "Disclaimer: a lot of new terms here - but don't panic! You'll get a feel for some of these concepts once we go through the exercise.\n",
    "\n",
    "$~~~~~~~~~~~~~~~~~$\n",
    "\n",
    "First things first though ... "
   ]
  },
  {
   "cell_type": "markdown",
   "metadata": {
    "slideshow": {
     "slide_type": "skip"
    }
   },
   "source": [
    "<a id=\"github\"></a>"
   ]
  },
  {
   "cell_type": "markdown",
   "metadata": {
    "slideshow": {
     "slide_type": "slide"
    }
   },
   "source": [
    "## Git and GitHub: Access\n",
    "\n",
    "Lets make sure that we have the necessary tools at hand:\n",
    "\n",
    "* [Install git](https://git-scm.com/book/en/v2/Getting-Started-Installing-Git ) on your laptop if you don't already have it.\n",
    "    - If you don't know if you have git, run `git --version` in your terminal. If it runs, then you're good to go.\n",
    "    \n",
    "    \n",
    "* [Sign up for a GitHub account](https://github.com/ ) if you don't already have it.\n",
    "    - You might want  to use your `.edu` email, as then you can get student access to unlimited private repositories."
   ]
  },
  {
   "cell_type": "markdown",
   "metadata": {
    "slideshow": {
     "slide_type": "slide"
    }
   },
   "source": [
    "## Git and GitHub: Access\n",
    "\n",
    "* [Set up SSH connection to your GitHub account](https://help.github.com/en/articles/connecting-to-github-with-ssh )"
   ]
  },
  {
   "cell_type": "markdown",
   "metadata": {
    "slideshow": {
     "slide_type": "fragment"
    }
   },
   "source": [
    "First check if you have a publich SSH (when running this in your terminal, run without the ! at the beginning)"
   ]
  },
  {
   "cell_type": "code",
   "execution_count": null,
   "metadata": {
    "scrolled": true,
    "slideshow": {
     "slide_type": "fragment"
    }
   },
   "outputs": [],
   "source": [
    "!ls -al ~/.ssh | grep .pub"
   ]
  },
  {
   "cell_type": "markdown",
   "metadata": {
    "slideshow": {
     "slide_type": "fragment"
    }
   },
   "source": [
    "- If you dont have a public SSH key, please [generate one and add it to the ssh agent](https://help.github.com/en/articles/generating-a-new-ssh-key-and-adding-it-to-the-ssh-agent )"
   ]
  },
  {
   "cell_type": "markdown",
   "metadata": {
    "slideshow": {
     "slide_type": "fragment"
    }
   },
   "source": [
    "Then, [add the SSH key to your GitHub account](https://help.github.com/en/articles/adding-a-new-ssh-key-to-your-github-account )"
   ]
  },
  {
   "cell_type": "markdown",
   "metadata": {
    "slideshow": {
     "slide_type": "slide"
    }
   },
   "source": [
    "## Configuring Git\n",
    "\n",
    "The minimal amount of configuration for git to work without pestering you is to tell it who you are.  All the commands here modify the ``.gitconfig`` file in your home\n",
    "directory.\n",
    "\n",
    "Lets first check the contents of the config file (again, when running this in your terminal, run without the ! at the beginning):"
   ]
  },
  {
   "cell_type": "code",
   "execution_count": null,
   "metadata": {
    "slideshow": {
     "slide_type": "fragment"
    }
   },
   "outputs": [],
   "source": [
    "!cat ~/.gitconfig"
   ]
  },
  {
   "cell_type": "markdown",
   "metadata": {
    "slideshow": {
     "slide_type": "fragment"
    }
   },
   "source": [
    "If the `.gitconfig` file doesn't have your info, please modify it (again, when running these in your terminal, run without the ! at the beginning):"
   ]
  },
  {
   "cell_type": "code",
   "execution_count": null,
   "metadata": {
    "slideshow": {
     "slide_type": "fragment"
    }
   },
   "outputs": [],
   "source": [
    "%%bash\n",
    "# you'll need to comment the next two lines out if you're running in this ipython notebook\n",
    "#git config --global user.name \"John Doe\"\n",
    "#git config --global user.email \"johndoe@uw.edu\""
   ]
  },
  {
   "cell_type": "markdown",
   "metadata": {
    "slideshow": {
     "slide_type": "fragment"
    }
   },
   "source": [
    "Check the config file again to be sure (again, without the ! at the beginning if running in your terminal):"
   ]
  },
  {
   "cell_type": "code",
   "execution_count": null,
   "metadata": {
    "slideshow": {
     "slide_type": "fragment"
    }
   },
   "outputs": [],
   "source": [
    "!cat ~/.gitconfig"
   ]
  },
  {
   "cell_type": "markdown",
   "metadata": {
    "slideshow": {
     "slide_type": "skip"
    }
   },
   "source": [
    "Github offers in its help pages instructions on how to configure the credentials helper for [Mac OSX](https://help.github.com/articles/set-up-git#platform-mac) and [Windows](https://help.github.com/articles/set-up-git#platform-windows)."
   ]
  },
  {
   "cell_type": "markdown",
   "metadata": {
    "slideshow": {
     "slide_type": "skip"
    }
   },
   "source": [
    "<a id=\"exercise\"></a>"
   ]
  },
  {
   "cell_type": "markdown",
   "metadata": {
    "slideshow": {
     "slide_type": "slide"
    }
   },
   "source": [
    "## Simple Exercise"
   ]
  },
  {
   "cell_type": "markdown",
   "metadata": {
    "slideshow": {
     "slide_type": "fragment"
    }
   },
   "source": [
    "Each of us will create a local git repository, add a simple file, commit our local changes, make changes to the same file, and commit them.\n",
    "\n",
    "To get started,"
   ]
  },
  {
   "cell_type": "markdown",
   "metadata": {
    "slideshow": {
     "slide_type": "fragment"
    }
   },
   "source": [
    "### Open your terminal or download this notebook << add link >> to run things."
   ]
  },
  {
   "cell_type": "markdown",
   "metadata": {
    "slideshow": {
     "slide_type": "slide"
    }
   },
   "source": [
    "Lets first see what options git offers"
   ]
  },
  {
   "cell_type": "code",
   "execution_count": null,
   "metadata": {
    "slideshow": {
     "slide_type": "fragment"
    }
   },
   "outputs": [],
   "source": [
    "!git"
   ]
  },
  {
   "cell_type": "markdown",
   "metadata": {
    "slideshow": {
     "slide_type": "fragment"
    }
   },
   "source": [
    "We'll go through some of them these here."
   ]
  },
  {
   "cell_type": "markdown",
   "metadata": {
    "slideshow": {
     "slide_type": "slide"
    }
   },
   "source": [
    "### `git init`: create an empty repository"
   ]
  },
  {
   "cell_type": "code",
   "execution_count": null,
   "metadata": {
    "slideshow": {
     "slide_type": "fragment"
    }
   },
   "outputs": [],
   "source": [
    "%%bash\n",
    "# remove repo if existing; needed for re-runs of this cell\n",
    "rm -rf test\n",
    "\n",
    "# initiate repo\n",
    "git init test"
   ]
  },
  {
   "cell_type": "markdown",
   "metadata": {
    "slideshow": {
     "slide_type": "slide"
    }
   },
   "source": [
    "**Note:** if you're running the upcoming cells in the terminal, you need to cd into the `test` folder only once.\n",
    "\n",
    "Since we are putting all of them here in a single notebook for the purposes of the tutorial, they will all be prepended with the first two lines:\n",
    "\n",
    "    %%bash\n",
    "    cd test\n",
    "\n",
    "that tell iPython to do that each time.  But you should ignore those two lines and type the rest of each cell yourself in your terminal."
   ]
  },
  {
   "cell_type": "markdown",
   "metadata": {
    "slideshow": {
     "slide_type": "slide"
    }
   },
   "source": [
    "Move into the repo and see what git did."
   ]
  },
  {
   "cell_type": "code",
   "execution_count": null,
   "metadata": {
    "slideshow": {
     "slide_type": "fragment"
    }
   },
   "outputs": [],
   "source": [
    "%%bash\n",
    "# move into the repo\n",
    "cd test\n",
    "\n",
    "# list out all the contents\n",
    "ls"
   ]
  },
  {
   "cell_type": "code",
   "execution_count": null,
   "metadata": {
    "slideshow": {
     "slide_type": "fragment"
    }
   },
   "outputs": [],
   "source": [
    "%%bash\n",
    "# move into the repo\n",
    "cd test\n",
    "\n",
    "# list out the contents\n",
    "ls -la"
   ]
  },
  {
   "cell_type": "code",
   "execution_count": null,
   "metadata": {
    "slideshow": {
     "slide_type": "fragment"
    }
   },
   "outputs": [],
   "source": [
    "%%bash\n",
    "# move into the repo\n",
    "cd test\n",
    "\n",
    "# list out the contents\n",
    "ls -l .git"
   ]
  },
  {
   "cell_type": "markdown",
   "metadata": {
    "slideshow": {
     "slide_type": "slide"
    }
   },
   "source": [
    "### Create a new file"
   ]
  },
  {
   "cell_type": "code",
   "execution_count": null,
   "metadata": {
    "slideshow": {
     "slide_type": "fragment"
    }
   },
   "outputs": [],
   "source": [
    "%%bash\n",
    "cd test\n",
    "\n",
    "echo \"My first bit of text\" > file1.txt"
   ]
  },
  {
   "cell_type": "markdown",
   "metadata": {
    "slideshow": {
     "slide_type": "fragment"
    }
   },
   "source": [
    "Lets look at the folder now"
   ]
  },
  {
   "cell_type": "code",
   "execution_count": null,
   "metadata": {
    "slideshow": {
     "slide_type": "fragment"
    }
   },
   "outputs": [],
   "source": [
    "%%bash\n",
    "cd test\n",
    "\n",
    "ls -al"
   ]
  },
  {
   "cell_type": "markdown",
   "metadata": {
    "slideshow": {
     "slide_type": "slide"
    }
   },
   "source": [
    "### `git status`: see what git notices"
   ]
  },
  {
   "cell_type": "code",
   "execution_count": null,
   "metadata": {
    "slideshow": {
     "slide_type": "fragment"
    }
   },
   "outputs": [],
   "source": [
    "%%bash\n",
    "cd test\n",
    "\n",
    "git status"
   ]
  },
  {
   "cell_type": "markdown",
   "metadata": {
    "slideshow": {
     "slide_type": "slide"
    }
   },
   "source": [
    "### `git add`: tell git about your new file"
   ]
  },
  {
   "cell_type": "code",
   "execution_count": null,
   "metadata": {
    "slideshow": {
     "slide_type": "fragment"
    }
   },
   "outputs": [],
   "source": [
    "%%bash\n",
    "cd test\n",
    "\n",
    "git add file1.txt"
   ]
  },
  {
   "cell_type": "markdown",
   "metadata": {
    "slideshow": {
     "slide_type": "fragment"
    }
   },
   "source": [
    "Lets check the `status` again"
   ]
  },
  {
   "cell_type": "code",
   "execution_count": null,
   "metadata": {
    "slideshow": {
     "slide_type": "fragment"
    }
   },
   "outputs": [],
   "source": [
    "%%bash\n",
    "cd test\n",
    "\n",
    "git status"
   ]
  },
  {
   "cell_type": "markdown",
   "metadata": {
    "slideshow": {
     "slide_type": "fragment"
    }
   },
   "source": [
    "Note how the file is no longer untracked - it is **staged** to be committed."
   ]
  },
  {
   "cell_type": "markdown",
   "metadata": {
    "slideshow": {
     "slide_type": "slide"
    }
   },
   "source": [
    "### `git commit`:  record our changes in git's database"
   ]
  },
  {
   "cell_type": "code",
   "execution_count": null,
   "metadata": {
    "slideshow": {
     "slide_type": "fragment"
    }
   },
   "outputs": [],
   "source": [
    "%%bash\n",
    "cd test\n",
    "\n",
    "git commit -m \"Our first commit - added a file.\""
   ]
  },
  {
   "cell_type": "markdown",
   "metadata": {
    "slideshow": {
     "slide_type": "fragment"
    }
   },
   "source": [
    "In the commit above, we  used the `-m` flag to specify a message at the command line.\n",
    "\n",
    "If we don't do that, git will open the editor we specified in our configuration above and require that we enter a message.\n",
    "\n",
    "By default, git refuses to record changes that don't have a message to go along with them (though you can obviously 'cheat' by using an empty or meaningless string: git only tries to facilitate best practices, it's not your nanny)."
   ]
  },
  {
   "cell_type": "markdown",
   "metadata": {
    "slideshow": {
     "slide_type": "fragment"
    }
   },
   "source": [
    "**Note: commit message should be short and informative (for your future self and others)!**"
   ]
  },
  {
   "cell_type": "markdown",
   "metadata": {
    "slideshow": {
     "slide_type": "slide"
    }
   },
   "source": [
    "Lets check the `status` again"
   ]
  },
  {
   "cell_type": "code",
   "execution_count": null,
   "metadata": {
    "slideshow": {
     "slide_type": "fragment"
    }
   },
   "outputs": [],
   "source": [
    "%%bash\n",
    "cd test\n",
    "\n",
    "git status"
   ]
  },
  {
   "cell_type": "markdown",
   "metadata": {
    "slideshow": {
     "slide_type": "slide"
    }
   },
   "source": [
    "### `git log`: what has been committed so far"
   ]
  },
  {
   "cell_type": "code",
   "execution_count": null,
   "metadata": {
    "slideshow": {
     "slide_type": "fragment"
    }
   },
   "outputs": [],
   "source": [
    "%%bash\n",
    "# move into the repo\n",
    "cd test\n",
    "\n",
    "# check the log\n",
    "git log"
   ]
  },
  {
   "cell_type": "markdown",
   "metadata": {
    "slideshow": {
     "slide_type": "fragment"
    }
   },
   "source": [
    "_You should see your first commit!_"
   ]
  },
  {
   "cell_type": "markdown",
   "metadata": {
    "slideshow": {
     "slide_type": "slide"
    }
   },
   "source": [
    "### `git diff`:  see changes to committed files"
   ]
  },
  {
   "cell_type": "code",
   "execution_count": null,
   "metadata": {
    "slideshow": {
     "slide_type": "fragment"
    }
   },
   "outputs": [],
   "source": [
    "%%bash\n",
    "# move into the repo\n",
    "cd test\n",
    "\n",
    "# lets add some more text to the file\n",
    "echo \"And now some more text...\" >> file1.txt"
   ]
  },
  {
   "cell_type": "code",
   "execution_count": null,
   "metadata": {
    "slideshow": {
     "slide_type": "fragment"
    }
   },
   "outputs": [],
   "source": [
    "%%bash\n",
    "cd test\n",
    "\n",
    "git diff"
   ]
  },
  {
   "cell_type": "markdown",
   "metadata": {
    "slideshow": {
     "slide_type": "slide"
    }
   },
   "source": [
    "Lets check git status again"
   ]
  },
  {
   "cell_type": "code",
   "execution_count": null,
   "metadata": {
    "slideshow": {
     "slide_type": "fragment"
    }
   },
   "outputs": [],
   "source": [
    "%%bash\n",
    "cd test\n",
    "\n",
    "git status"
   ]
  },
  {
   "cell_type": "markdown",
   "metadata": {
    "slideshow": {
     "slide_type": "slide"
    }
   },
   "source": [
    "Lets commit the new changes"
   ]
  },
  {
   "cell_type": "code",
   "execution_count": null,
   "metadata": {
    "slideshow": {
     "slide_type": "fragment"
    }
   },
   "outputs": [],
   "source": [
    "%%bash\n",
    "cd test\n",
    "\n",
    "git add 'file1.txt'\n",
    "git commit -m \"Added to file1.\""
   ]
  },
  {
   "cell_type": "markdown",
   "metadata": {
    "slideshow": {
     "slide_type": "slide"
    }
   },
   "source": [
    "Lets look at the git log again"
   ]
  },
  {
   "cell_type": "code",
   "execution_count": null,
   "metadata": {
    "slideshow": {
     "slide_type": "fragment"
    }
   },
   "outputs": [],
   "source": [
    "%%bash\n",
    "# move into the repo\n",
    "cd test\n",
    "\n",
    "# check the log\n",
    "git log"
   ]
  },
  {
   "cell_type": "markdown",
   "metadata": {
    "slideshow": {
     "slide_type": "slide"
    }
   },
   "source": [
    "### Let's recap what we've learned so far ..."
   ]
  },
  {
   "cell_type": "markdown",
   "metadata": {
    "slideshow": {
     "slide_type": "fragment"
    }
   },
   "source": [
    "The cycle of git virtue: work, add, commit, work, add, commit, ...\n",
    "- Work\n",
    "- Check status (and diff for more details)\n",
    "- Add new/changed file(s)\n",
    "- Commit staged file(s)\n",
    "- Repeat"
   ]
  },
  {
   "cell_type": "markdown",
   "metadata": {
    "slideshow": {
     "slide_type": "slide"
    }
   },
   "source": [
    "Commands seen so far:\n",
    "- `git init`\n",
    "- `git status`\n",
    "- `git add`\n",
    "- `git commit`\n",
    "- `git log`\n",
    "- `git diff`"
   ]
  },
  {
   "cell_type": "markdown",
   "metadata": {
    "slideshow": {
     "slide_type": "slide"
    }
   },
   "source": [
    "You'll need a few more to really get going but we don't have time to practice them:\n",
    "- `git remote -v`: list all the remotes\n",
    "- `git remote add <remote-name-you-assign> <github-url>`: add remote (e.g. a GitHub repo)\n",
    "- `git push`: push our changes to the remote\n",
    "- `git pull`: pull changes from the remote"
   ]
  },
  {
   "cell_type": "markdown",
   "metadata": {
    "slideshow": {
     "slide_type": "fragment"
    }
   },
   "source": [
    "$~~~~~~~~~~~~~~~~~~~$\n",
    "\n",
    "For practice with progressively more difficult exercises, follow e.g. [this tutorial](https://github.com/humnaawan/git-tutorial/blob/master/git-intro.ipynb) and references therein."
   ]
  },
  {
   "cell_type": "markdown",
   "metadata": {
    "slideshow": {
     "slide_type": "skip"
    }
   },
   "source": [
    "<a id=\"desihub\"></a>"
   ]
  },
  {
   "cell_type": "markdown",
   "metadata": {
    "slideshow": {
     "slide_type": "slide"
    }
   },
   "source": [
    "## desihub\n",
    "\n",
    "DESI members are a part of the GitHub DESI organization: https://github.com/desihub\n",
    "\n",
    "(If you are not a part of the GitHub organization yet, please send your GitHub handle to Stephen Bailey.)"
   ]
  },
  {
   "cell_type": "markdown",
   "metadata": {
    "slideshow": {
     "slide_type": "fragment"
    }
   },
   "source": [
    "Some notes:\n",
    "- Non-developer members _cannot_ push directly to repositories, so you'll employ the following workflow:\n",
    "    - **Fork** the repo you want to contribute to. This will essentially give you a copy of the repo that you can directly change.\n",
    "    - Make changes. Commit them. Push them to your fork as the remote.\n",
    "    - Issue a **Pull Request (PR)** to signal to the repo's developers re your changes.\n",
    "    - The developers will review changes, possibly do a code review, and then **merge** them into the main repo.\n",
    "\n",
    "\n",
    "**We do NOT have time to demonstrate this workflow here** but you can practice it on [Phil Marhsall's gettingStarted repo](https://github.com/drphilmarshall/GettingStarted#seriouslylost) (where instructions are provided on how exactly to get to issuing a PR)."
   ]
  },
  {
   "cell_type": "markdown",
   "metadata": {
    "slideshow": {
     "slide_type": "fragment"
    }
   },
   "source": [
    "- As a non-developer, you should be able to create repos under `desihub` and work in them as a developer (meaning that you can push directly to the `master` branch)."
   ]
  },
  {
   "cell_type": "markdown",
   "metadata": {
    "slideshow": {
     "slide_type": "skip"
    }
   },
   "source": [
    "<a id=\"resources\"></a>"
   ]
  },
  {
   "cell_type": "markdown",
   "metadata": {
    "slideshow": {
     "slide_type": "slide"
    }
   },
   "source": [
    "## Further resources\n",
    "\n",
    "- See [Jake Vanderplas's tutorial notebook](https://github.com/jakevdp/git-intro/blob/master/git-intro.ipynb ) for additional material/references.\n",
    "- [Phil Marshall's gettingStarted repo](https://github.com/drphilmarshall/GettingStarted ); there's very helpful Q/A on the main page + a video tutorial of some of the basics. You can practive issuing a PR here, or on [Humna Awan's tutorial repo](https://github.com/humnaawan/git-tutorial).\n",
    "\n",
    "\n",
    "p.s. additional things to learn about: creating and working in branches, creating GitHub issues and linking them to commits, conflict resolutions. The resources linked above should help with all these!\n",
    "\n",
    "$~~~~~~~~~~~~~~~$\n",
    "\n",
    "Whew - that was a lot! Questions?"
   ]
  },
  {
   "cell_type": "code",
   "execution_count": null,
   "metadata": {},
   "outputs": [],
   "source": []
  }
 ],
 "metadata": {
  "celltoolbar": "Slideshow",
  "kernelspec": {
   "display_name": "Python 3",
   "language": "python",
   "name": "python3"
  },
  "language_info": {
   "codemirror_mode": {
    "name": "ipython",
    "version": 3
   },
   "file_extension": ".py",
   "mimetype": "text/x-python",
   "name": "python",
   "nbconvert_exporter": "python",
   "pygments_lexer": "ipython3",
   "version": "3.7.3"
  }
 },
 "nbformat": 4,
 "nbformat_minor": 1
}
