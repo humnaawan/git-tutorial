{
 "cells": [
  {
   "cell_type": "markdown",
   "metadata": {
    "slideshow": {
     "slide_type": "slide"
    }
   },
   "source": [
    "# Intro to Git and GitHub\n",
    "\n",
    "\n",
    "$~~~~~~~~~~~~~~~~~~~~~~$\n",
    "\n",
    "#### DESI Pre-Meeting, Session III\n",
    "#### Friday, June 11, 2021\n",
    "\n",
    "$~~~~~~~~~~~~~~~~~~~~~~$\n",
    "\n",
    "_Tutorial developed by Humna Awan; adapted from [a tutorial presented by Jake Vanderplas in the LSST Data Science Fellowship Program](https://github.com/jakevdp/git-intro/blob/master/git-intro.ipynb) as well as materials from [Phil Marshall's gettingStarted repo](https://github.com/drphilmarshall/GettingStarted )._"
   ]
  },
  {
   "cell_type": "markdown",
   "metadata": {
    "slideshow": {
     "slide_type": "slide"
    }
   },
   "source": [
    "## Git: the tool you didn't know you needed\n",
    "\n",
    "Lets cover some basics before dealing with Git and GitHub directly"
   ]
  },
  {
   "cell_type": "markdown",
   "metadata": {
    "slideshow": {
     "slide_type": "slide"
    }
   },
   "source": [
    "## What is Version Control?\n",
    "\n",
    "We all implement it, e.g.,\n",
    "* paper_draft_v1.pdf\n",
    "* paper_draft_v2.pdf\n",
    "* paper_draft_v2a.pdf\n",
    "* paper_draft_v2a_1.pdf\n",
    "...\n",
    "\n",
    "\n",
    "$~~~~~~~~~~~~~~~~~~~~~~$\n",
    "\n",
    "and we all know the perils of that kind of file-handling."
   ]
  },
  {
   "cell_type": "markdown",
   "metadata": {
    "slideshow": {
     "slide_type": "slide"
    }
   },
   "source": [
    "## What is Version Control?\n",
    "\n",
    "#### From Wikipedia:\n",
    "“.. management of changes to documents, programs, and other information stored as computer files.”\n",
    "\n",
    "#### Reproducibility?\n",
    "\n",
    "* Tracking and recreating every step of your work\n",
    "* In the software world: it's called *Version Control*!\n",
    "\n",
    "#### What do (good) version control tools give you?\n",
    "\n",
    "* Peace of mind (backups)\n",
    "* Freedom (exploratory branching)\n",
    "* Collaboration (synchronization)"
   ]
  },
  {
   "cell_type": "markdown",
   "metadata": {
    "slideshow": {
     "slide_type": "slide"
    }
   },
   "source": [
    "## Git is a version control software\n",
    "\n",
    "It allows preserving the various states of your work, and can work for basically anything including\n",
    "* Code management\n",
    "* Custom style files and macros\n",
    "* Collaborative writing (group projects, proposals)\n",
    "* Everyday research\n",
    "* Personal website history tracking"
   ]
  },
  {
   "cell_type": "markdown",
   "metadata": {
    "slideshow": {
     "slide_type": "fragment"
    }
   },
   "source": [
    "## GitHub is a cloud based service for version control via Git.\n",
    "\n"
   ]
  },
  {
   "cell_type": "markdown",
   "metadata": {
    "slideshow": {
     "slide_type": "slide"
    }
   },
   "source": [
    "## The plan for this tutorial\n",
    "\n",
    "- [A quick overview of Git key concepts](#overview)\n",
    "- [Getting setup with Git/GitHub](#github)\n",
    "- [A (very) simple exercise to get you going](#exercise)\n",
    "- [Short intro to `desihub`](#desihub)\n",
    "- [Further resources](#resources)"
   ]
  },
  {
   "cell_type": "markdown",
   "metadata": {
    "slideshow": {
     "slide_type": "skip"
    }
   },
   "source": [
    "<a id=\"overview\"></a>"
   ]
  },
  {
   "cell_type": "markdown",
   "metadata": {
    "slideshow": {
     "slide_type": "slide"
    }
   },
   "source": [
    "## High level picture: overview of key concepts"
   ]
  },
  {
   "cell_type": "markdown",
   "metadata": {
    "slideshow": {
     "slide_type": "fragment"
    }
   },
   "source": [
    "Non-git workflow for say a *single* Word document\n",
    "- Add text\n",
    "- Save it (preserving the snapshot of the work at this time)\n",
    "- Add more text\n",
    "- Save it (preserving the snapshot of the work at this new time _while overwriting the old version_)"
   ]
  },
  {
   "cell_type": "markdown",
   "metadata": {
    "slideshow": {
     "slide_type": "slide"
    }
   },
   "source": [
    "In a version controlled framework\n",
    "- Add text\n",
    "- **Commit** it (preserving the snapshot of the work at this time)\n",
    "- Add more text\n",
    "- **Commit** it (preserving the snapshot of the work at this new time)"
   ]
  },
  {
   "cell_type": "markdown",
   "metadata": {
    "slideshow": {
     "slide_type": "fragment"
    }
   },
   "source": [
    "Then, a **repository** is a group of *linked* commits. You can easily see what has changed between commits, revert from one to other, etc.\n",
    "\n",
    "![](files/images/threecommits.png)\n",
    "\n",
    "\n",
    "\n",
    "\n",
    "Credit: ProGit book, by Scott Chacon, CC License."
   ]
  },
  {
   "cell_type": "markdown",
   "metadata": {
    "slideshow": {
     "slide_type": "slide"
    }
   },
   "source": [
    "The git repository is generally hosted on a **remote**, which syncs changes across the copies of the git repository (that are connected to it)"
   ]
  },
  {
   "cell_type": "markdown",
   "metadata": {
    "slideshow": {
     "slide_type": "fragment"
    }
   },
   "source": [
    "When you make local changes, you **push** them to the remote."
   ]
  },
  {
   "cell_type": "markdown",
   "metadata": {
    "slideshow": {
     "slide_type": "fragment"
    }
   },
   "source": [
    "When there are changes others have made that you want to get in your local copy, you **pull** them from the remote."
   ]
  },
  {
   "cell_type": "markdown",
   "metadata": {
    "slideshow": {
     "slide_type": "fragment"
    }
   },
   "source": [
    "$~~~~~~~~~~~~~~~~~$\n",
    "\n",
    "Disclaimer: a lot of new terms here - but don't panic! You'll get a feel for some of these concepts once we go through the exercise.\n",
    "\n",
    "$~~~~~~~~~~~~~~~~~$\n",
    "\n",
    "First things first though ... "
   ]
  },
  {
   "cell_type": "markdown",
   "metadata": {
    "slideshow": {
     "slide_type": "skip"
    }
   },
   "source": [
    "<a id=\"github\"></a>"
   ]
  },
  {
   "cell_type": "markdown",
   "metadata": {
    "slideshow": {
     "slide_type": "slide"
    }
   },
   "source": [
    "## Git and GitHub: Access\n",
    "\n",
    "Lets make sure that we have the necessary tools at hand for the exercise coming up:\n",
    "\n",
    "* [Install git](https://git-scm.com/book/en/v2/Getting-Started-Installing-Git ) on your laptop if you don't already have it.\n",
    "    - If you don't know if you have git, run `git --version` in your terminal. If it runs, then you're good to go.\n",
    "\n",
    "If there's additional time, we will work on getting set up on GitHub etc. For that, you'd need to\n",
    "\n",
    "* [Sign up for a GitHub account](https://github.com/ ) if you don't already have it.\n",
    "    - You might want  to use your `.edu` email, as then you can easier access to unlimited private repositories and other perks available via the [student developer pack](https://education.github.com/pack)."
   ]
  },
  {
   "cell_type": "markdown",
   "metadata": {
    "slideshow": {
     "slide_type": "skip"
    }
   },
   "source": [
    "<a id=\"exercise\"></a>"
   ]
  },
  {
   "cell_type": "markdown",
   "metadata": {
    "slideshow": {
     "slide_type": "slide"
    }
   },
   "source": [
    "## Simple Exercise"
   ]
  },
  {
   "cell_type": "markdown",
   "metadata": {
    "slideshow": {
     "slide_type": "fragment"
    }
   },
   "source": [
    "Each of us will create a local git repository, add a simple file, commit our local changes, make changes to the same file, and commit them.\n",
    "\n",
    "To get started,"
   ]
  },
  {
   "cell_type": "markdown",
   "metadata": {
    "slideshow": {
     "slide_type": "fragment"
    }
   },
   "source": [
    "### Open your terminal (where you will type in the commands) or download this notebook at [https://tinyurl.com/git-desi](https://tinyurl.com/git-desi) to run things."
   ]
  },
  {
   "cell_type": "markdown",
   "metadata": {
    "slideshow": {
     "slide_type": "slide"
    }
   },
   "source": [
    "Lets first see what options git offers"
   ]
  },
  {
   "cell_type": "code",
   "execution_count": null,
   "metadata": {
    "slideshow": {
     "slide_type": "fragment"
    }
   },
   "outputs": [],
   "source": [
    "!git"
   ]
  },
  {
   "cell_type": "markdown",
   "metadata": {
    "slideshow": {
     "slide_type": "fragment"
    }
   },
   "source": [
    "We'll go through some of them these here."
   ]
  },
  {
   "cell_type": "markdown",
   "metadata": {
    "slideshow": {
     "slide_type": "slide"
    }
   },
   "source": [
    "### `git init`: create an empty repository"
   ]
  },
  {
   "cell_type": "code",
   "execution_count": null,
   "metadata": {
    "slideshow": {
     "slide_type": "fragment"
    }
   },
   "outputs": [],
   "source": [
    "%%bash\n",
    "# remove repo if existing; needed for re-runs of this cell\n",
    "rm -rf test\n",
    "\n",
    "# initiate repo\n",
    "git init test"
   ]
  },
  {
   "cell_type": "markdown",
   "metadata": {
    "slideshow": {
     "slide_type": "slide"
    }
   },
   "source": [
    "**Note:** if you're running the upcoming cells in the terminal, you need to cd into the `test` folder only once.\n",
    "\n",
    "Since we are putting all of them here in a single notebook for the purposes of the tutorial, they will all be prepended with the first two lines:\n",
    "\n",
    "    %%bash\n",
    "    cd test\n",
    "\n",
    "that tell iPython to do that each time.  But you should ignore those two lines and type the rest of each cell yourself in your terminal."
   ]
  },
  {
   "cell_type": "markdown",
   "metadata": {
    "slideshow": {
     "slide_type": "slide"
    }
   },
   "source": [
    "Move into the repo and see what git did."
   ]
  },
  {
   "cell_type": "code",
   "execution_count": null,
   "metadata": {
    "slideshow": {
     "slide_type": "fragment"
    }
   },
   "outputs": [],
   "source": [
    "%%bash\n",
    "# move into the repo; not applicable if working in a terminal and already in test folder\n",
    "cd test\n",
    "\n",
    "# list out all the contents\n",
    "ls"
   ]
  },
  {
   "cell_type": "code",
   "execution_count": null,
   "metadata": {
    "slideshow": {
     "slide_type": "fragment"
    }
   },
   "outputs": [],
   "source": [
    "%%bash\n",
    "# move into the repo; not applicable if working in a terminal and already in test folder\n",
    "cd test\n",
    "\n",
    "# list out the contents\n",
    "ls -la"
   ]
  },
  {
   "cell_type": "code",
   "execution_count": null,
   "metadata": {
    "slideshow": {
     "slide_type": "fragment"
    }
   },
   "outputs": [],
   "source": [
    "%%bash\n",
    "# move into the repo; not applicable if working in a terminal and already in test folder\n",
    "cd test\n",
    "\n",
    "# list out the contents\n",
    "ls -l .git"
   ]
  },
  {
   "cell_type": "markdown",
   "metadata": {
    "slideshow": {
     "slide_type": "slide"
    }
   },
   "source": [
    "### Create a new file"
   ]
  },
  {
   "cell_type": "code",
   "execution_count": null,
   "metadata": {
    "slideshow": {
     "slide_type": "fragment"
    }
   },
   "outputs": [],
   "source": [
    "%%bash\n",
    "# move into the repo; not applicable if working in a terminal and already in test folder\n",
    "cd test\n",
    "\n",
    "# create a file named file1.txt\n",
    "echo \"My first bit of text.\" > file1.txt"
   ]
  },
  {
   "cell_type": "markdown",
   "metadata": {
    "slideshow": {
     "slide_type": "fragment"
    }
   },
   "source": [
    "Lets look at the folder now"
   ]
  },
  {
   "cell_type": "code",
   "execution_count": null,
   "metadata": {
    "slideshow": {
     "slide_type": "fragment"
    }
   },
   "outputs": [],
   "source": [
    "%%bash\n",
    "# move into the repo; not applicable if working in a terminal and already in test folder\n",
    "cd test\n",
    "\n",
    "# list out the content\n",
    "ls -al"
   ]
  },
  {
   "cell_type": "markdown",
   "metadata": {
    "slideshow": {
     "slide_type": "slide"
    }
   },
   "source": [
    "### `git status`: see what git notices"
   ]
  },
  {
   "cell_type": "code",
   "execution_count": null,
   "metadata": {
    "slideshow": {
     "slide_type": "fragment"
    }
   },
   "outputs": [],
   "source": [
    "%%bash\n",
    "# move into the repo; not applicable if working in a terminal and already in test folder\n",
    "cd test\n",
    "\n",
    "# check status\n",
    "git status"
   ]
  },
  {
   "cell_type": "markdown",
   "metadata": {
    "slideshow": {
     "slide_type": "fragment"
    }
   },
   "source": [
    "Note that you are on **branch** named `master` (there's effort underway to move away from the name `master` to `main`; see more [here](https://github.com/github/renaming))."
   ]
  },
  {
   "cell_type": "markdown",
   "metadata": {
    "slideshow": {
     "slide_type": "slide"
    }
   },
   "source": [
    "### `git add`: tell git about your new file"
   ]
  },
  {
   "cell_type": "code",
   "execution_count": null,
   "metadata": {
    "slideshow": {
     "slide_type": "fragment"
    }
   },
   "outputs": [],
   "source": [
    "%%bash\n",
    "# move into the repo; not applicable if working in a terminal and already in test folder\n",
    "cd test\n",
    "\n",
    "# add file1.txt\n",
    "git add file1.txt"
   ]
  },
  {
   "cell_type": "markdown",
   "metadata": {
    "slideshow": {
     "slide_type": "fragment"
    }
   },
   "source": [
    "Lets check the `status` again"
   ]
  },
  {
   "cell_type": "code",
   "execution_count": null,
   "metadata": {
    "slideshow": {
     "slide_type": "fragment"
    }
   },
   "outputs": [],
   "source": [
    "%%bash\n",
    "# move into the repo; not applicable if working in a terminal and already in test folder\n",
    "cd test\n",
    "\n",
    "# check status\n",
    "git status"
   ]
  },
  {
   "cell_type": "markdown",
   "metadata": {
    "slideshow": {
     "slide_type": "fragment"
    }
   },
   "source": [
    "Note how the file is no longer untracked - it is **staged** to be committed."
   ]
  },
  {
   "cell_type": "markdown",
   "metadata": {
    "slideshow": {
     "slide_type": "slide"
    }
   },
   "source": [
    "### `git commit`:  record our changes in git's database"
   ]
  },
  {
   "cell_type": "code",
   "execution_count": null,
   "metadata": {
    "slideshow": {
     "slide_type": "fragment"
    }
   },
   "outputs": [],
   "source": [
    "%%bash\n",
    "# move into the repo; not applicable if working in a terminal and already in test folder\n",
    "cd test\n",
    "\n",
    "# commit file1.txt\n",
    "git commit -m \"Our first commit - added a file.\""
   ]
  },
  {
   "cell_type": "markdown",
   "metadata": {
    "slideshow": {
     "slide_type": "fragment"
    }
   },
   "source": [
    "In the commit above, we  used the `-m` flag to specify a message at the command line.\n",
    "\n",
    "If we don't do that, git will open the editor we specified in our configuration above and require that we enter a message.\n",
    "\n",
    "By default, git refuses to record changes that don't have a message to go along with them (though you can obviously 'cheat' by using an empty or meaningless string: git only tries to facilitate best practices, it's not your nanny)."
   ]
  },
  {
   "cell_type": "markdown",
   "metadata": {
    "slideshow": {
     "slide_type": "fragment"
    }
   },
   "source": [
    "**Note: commit message should be short and informative (for your future self and others)!**"
   ]
  },
  {
   "cell_type": "markdown",
   "metadata": {
    "slideshow": {
     "slide_type": "slide"
    }
   },
   "source": [
    "Lets check the `status` again"
   ]
  },
  {
   "cell_type": "code",
   "execution_count": null,
   "metadata": {
    "slideshow": {
     "slide_type": "fragment"
    }
   },
   "outputs": [],
   "source": [
    "%%bash\n",
    "# move into the repo; not applicable if working in a terminal and already in test folder\n",
    "cd test\n",
    "\n",
    "# check status\n",
    "git status"
   ]
  },
  {
   "cell_type": "markdown",
   "metadata": {
    "slideshow": {
     "slide_type": "slide"
    }
   },
   "source": [
    "### `git log`: what has been committed so far"
   ]
  },
  {
   "cell_type": "code",
   "execution_count": null,
   "metadata": {
    "slideshow": {
     "slide_type": "fragment"
    }
   },
   "outputs": [],
   "source": [
    "%%bash\n",
    "# move into the repo; not applicable if working in a terminal and already in test folder\n",
    "cd test\n",
    "\n",
    "# check the log\n",
    "git log"
   ]
  },
  {
   "cell_type": "markdown",
   "metadata": {
    "slideshow": {
     "slide_type": "fragment"
    }
   },
   "source": [
    "_You should see your first commit!_"
   ]
  },
  {
   "cell_type": "markdown",
   "metadata": {
    "slideshow": {
     "slide_type": "slide"
    }
   },
   "source": [
    "### `git diff`:  see changes to committed files"
   ]
  },
  {
   "cell_type": "code",
   "execution_count": null,
   "metadata": {
    "slideshow": {
     "slide_type": "fragment"
    }
   },
   "outputs": [],
   "source": [
    "%%bash\n",
    "# move into the repo; not applicable if working in a terminal and already in test folder\n",
    "cd test\n",
    "\n",
    "# lets add some more text to the file\n",
    "echo \"And now some more text...\" >> file1.txt"
   ]
  },
  {
   "cell_type": "code",
   "execution_count": null,
   "metadata": {
    "slideshow": {
     "slide_type": "fragment"
    }
   },
   "outputs": [],
   "source": [
    "%%bash\n",
    "# move into the repo; not applicable if working in a terminal and already in test folder\n",
    "cd test\n",
    "\n",
    "# see what has changed in the repo\n",
    "git diff"
   ]
  },
  {
   "cell_type": "markdown",
   "metadata": {
    "slideshow": {
     "slide_type": "slide"
    }
   },
   "source": [
    "Lets check git status again"
   ]
  },
  {
   "cell_type": "code",
   "execution_count": null,
   "metadata": {
    "slideshow": {
     "slide_type": "fragment"
    }
   },
   "outputs": [],
   "source": [
    "%%bash\n",
    "# move into the repo; not applicable if working in a terminal and already in test folder\n",
    "cd test\n",
    "\n",
    "# check status\n",
    "git status"
   ]
  },
  {
   "cell_type": "markdown",
   "metadata": {
    "slideshow": {
     "slide_type": "slide"
    }
   },
   "source": [
    "Lets commit the new changes"
   ]
  },
  {
   "cell_type": "code",
   "execution_count": null,
   "metadata": {
    "slideshow": {
     "slide_type": "fragment"
    }
   },
   "outputs": [],
   "source": [
    "%%bash\n",
    "# move into the repo; not applicable if working in a terminal and already in test folder\n",
    "cd test\n",
    "\n",
    "# add and commit changes to file1.txt\n",
    "git add 'file1.txt'\n",
    "git commit -m \"Added more text.\""
   ]
  },
  {
   "cell_type": "markdown",
   "metadata": {
    "slideshow": {
     "slide_type": "slide"
    }
   },
   "source": [
    "Lets look at the git log again"
   ]
  },
  {
   "cell_type": "code",
   "execution_count": null,
   "metadata": {
    "slideshow": {
     "slide_type": "fragment"
    }
   },
   "outputs": [],
   "source": [
    "%%bash\n",
    "# move into the repo; not applicable if working in a terminal and already in test folder\n",
    "cd test\n",
    "\n",
    "# check the log\n",
    "git log"
   ]
  },
  {
   "cell_type": "markdown",
   "metadata": {
    "slideshow": {
     "slide_type": "slide"
    }
   },
   "source": [
    "### Let's recap what we've learned so far ..."
   ]
  },
  {
   "cell_type": "markdown",
   "metadata": {
    "slideshow": {
     "slide_type": "fragment"
    }
   },
   "source": [
    "The cycle of git virtue: work, add, commit, work, add, commit, ...\n",
    "- Work\n",
    "- Check status (and diff for more details)\n",
    "- Add new/changed file(s)\n",
    "- Commit staged file(s)\n",
    "- Repeat"
   ]
  },
  {
   "cell_type": "markdown",
   "metadata": {
    "slideshow": {
     "slide_type": "slide"
    }
   },
   "source": [
    "Commands seen so far:\n",
    "- `git init`\n",
    "- `git status`\n",
    "- `git add`\n",
    "- `git commit`\n",
    "- `git log`\n",
    "- `git diff`"
   ]
  },
  {
   "cell_type": "markdown",
   "metadata": {
    "slideshow": {
     "slide_type": "slide"
    }
   },
   "source": [
    "You'll need a few more to really get going but we don't have time to practice them:\n",
    "- `git clone <github-url>`: clone a git repo\n",
    "- `git remote -v`: list all the remotes\n",
    "- `git remote add <remote-name-you-assign> <github-url>`: add remote (e.g. a GitHub repo)\n",
    "- `git push`: push our changes to the remote\n",
    "- `git pull`: pull changes from the remote and integrate them into your working files. (If you don't want to have a direct merge, you can try `git fetch` which will only download new data from remote).\n",
    "\n",
    "There are other handy commands like `git diff --staged`, `git commit --amend`, `git stash`, etc. that you can investigate too."
   ]
  },
  {
   "cell_type": "markdown",
   "metadata": {
    "slideshow": {
     "slide_type": "fragment"
    }
   },
   "source": [
    "$~~~~~~~~~~~~~~~~~~~$\n",
    "\n",
    "For practice with progressively more difficult exercises, follow e.g. [this tutorial](https://github.com/humnaawan/git-tutorial/blob/master/git-intro.ipynb) and references therein."
   ]
  },
  {
   "cell_type": "markdown",
   "metadata": {
    "slideshow": {
     "slide_type": "skip"
    }
   },
   "source": [
    "<a id=\"desihub\"></a>"
   ]
  },
  {
   "cell_type": "markdown",
   "metadata": {
    "slideshow": {
     "slide_type": "slide"
    }
   },
   "source": [
    "## desihub\n",
    "\n",
    "DESI members are a part of the GitHub DESI organization: https://github.com/desihub\n",
    "\n",
    "(If you are not a part of the GitHub organization yet, please send your GitHub handle to Stephen Bailey.)"
   ]
  },
  {
   "cell_type": "markdown",
   "metadata": {
    "slideshow": {
     "slide_type": "fragment"
    }
   },
   "source": [
    "Some notes:\n",
    "- Non-developer members _cannot_ push directly to repositories, so you'll employ the following workflow:\n",
    "    - **Fork** the repo you want to contribute to. This will essentially give you a copy of the repo that you can directly change.\n",
    "    - Make changes. Commit them. Push them to your fork as the remote.\n",
    "    - Issue a **Pull Request (PR)** to signal to the repo's developers re your changes.\n",
    "    - The developers will review changes, possibly do a code review, and then **merge** them into the main repo.\n",
    "\n",
    "\n",
    "**We do NOT have time to demonstrate this workflow here** but you can practice it on [Phil Marhsall's gettingStarted repo](https://github.com/drphilmarshall/GettingStarted#seriouslylost) (where instructions are provided on how exactly to get to issuing a PR)."
   ]
  },
  {
   "cell_type": "markdown",
   "metadata": {
    "slideshow": {
     "slide_type": "fragment"
    }
   },
   "source": [
    "- As a non-developer, you should be able to create repos under `desihub` and work in them as a developer (meaning that you can push directly to the `master` branch)."
   ]
  },
  {
   "cell_type": "markdown",
   "metadata": {
    "slideshow": {
     "slide_type": "skip"
    }
   },
   "source": [
    "<a id=\"resources\"></a>"
   ]
  },
  {
   "cell_type": "markdown",
   "metadata": {
    "slideshow": {
     "slide_type": "slide"
    }
   },
   "source": [
    "## Further resources\n",
    "\n",
    "- See [Jake Vanderplas's tutorial notebook](https://github.com/jakevdp/git-intro/blob/master/git-intro.ipynb ) for additional material/references.\n",
    "- [Phil Marshall's gettingStarted repo](https://github.com/drphilmarshall/GettingStarted ); there's very helpful Q/A on the main page + a video tutorial of some of the basics. You can practive issuing a PR here, or on [Humna Awan's tutorial repo](https://github.com/humnaawan/git-tutorial).\n",
    "\n",
    "\n",
    "p.s. additional things to learn about: creating and working in branches, creating GitHub issues and linking them to commits, conflict resolutions. The resources linked above should help with all these!\n",
    "\n",
    "$~~~~~~~~~~~~~~~$\n",
    "\n",
    "Whew - that was a lot! Questions?"
   ]
  },
  {
   "cell_type": "code",
   "execution_count": null,
   "metadata": {
    "slideshow": {
     "slide_type": "skip"
    }
   },
   "outputs": [],
   "source": []
  },
  {
   "cell_type": "markdown",
   "metadata": {
    "slideshow": {
     "slide_type": "slide"
    }
   },
   "source": [
    "## Additional todos if there's time left\n",
    "\n",
    "(adapated from the links in [further resources above](#resources))\n",
    "- [Setting up SSH connection to your GitHub](#ssh)\n",
    "- [Configuring Git](#gitconfig)\n",
    "- [Exercise: adding a GitHub remote](#add-remote)\n",
    "- [Exercise: syncing work via Git](#sync)\n",
    "- [Exercise: conflict management](#conflict)"
   ]
  },
  {
   "cell_type": "markdown",
   "metadata": {
    "slideshow": {
     "slide_type": "skip"
    }
   },
   "source": [
    "<a id=\"ssh\"></a>"
   ]
  },
  {
   "cell_type": "markdown",
   "metadata": {
    "slideshow": {
     "slide_type": "slide"
    }
   },
   "source": [
    "## Git and GitHub: Access\n",
    "\n",
    "* [Set up SSH connection to your GitHub account](https://help.github.com/en/articles/connecting-to-github-with-ssh )"
   ]
  },
  {
   "cell_type": "markdown",
   "metadata": {
    "slideshow": {
     "slide_type": "fragment"
    }
   },
   "source": [
    "First check if you have a publich SSH (when running this in your terminal, run without the ! at the beginning)"
   ]
  },
  {
   "cell_type": "code",
   "execution_count": null,
   "metadata": {
    "scrolled": true,
    "slideshow": {
     "slide_type": "fragment"
    }
   },
   "outputs": [],
   "source": [
    "!ls -al ~/.ssh | grep .pub"
   ]
  },
  {
   "cell_type": "markdown",
   "metadata": {
    "slideshow": {
     "slide_type": "fragment"
    }
   },
   "source": [
    "- If you dont have a public SSH key, please [generate one and add it to the ssh agent](https://help.github.com/en/articles/generating-a-new-ssh-key-and-adding-it-to-the-ssh-agent )"
   ]
  },
  {
   "cell_type": "markdown",
   "metadata": {
    "slideshow": {
     "slide_type": "fragment"
    }
   },
   "source": [
    "Then, [add the SSH key to your GitHub account](https://help.github.com/en/articles/adding-a-new-ssh-key-to-your-github-account )"
   ]
  },
  {
   "cell_type": "markdown",
   "metadata": {
    "slideshow": {
     "slide_type": "skip"
    }
   },
   "source": [
    "<a id=\"gitconfig\"></a>"
   ]
  },
  {
   "cell_type": "markdown",
   "metadata": {
    "slideshow": {
     "slide_type": "slide"
    }
   },
   "source": [
    "## Configuring Git\n",
    "\n",
    "The minimal amount of configuration for git to work without pestering you is to tell it who you are.  All the commands here modify the ``.gitconfig`` file in your home\n",
    "directory.\n",
    "\n",
    "Lets first check the contents of the config file (again, when running this in your terminal, run without the ! at the beginning):"
   ]
  },
  {
   "cell_type": "code",
   "execution_count": null,
   "metadata": {
    "slideshow": {
     "slide_type": "fragment"
    }
   },
   "outputs": [],
   "source": [
    "!cat ~/.gitconfig"
   ]
  },
  {
   "cell_type": "markdown",
   "metadata": {
    "slideshow": {
     "slide_type": "fragment"
    }
   },
   "source": [
    "If the `.gitconfig` file doesn't have your info, please modify it (again, when running these in your terminal, run without the ! at the beginning):"
   ]
  },
  {
   "cell_type": "code",
   "execution_count": null,
   "metadata": {
    "slideshow": {
     "slide_type": "fragment"
    }
   },
   "outputs": [],
   "source": [
    "%%bash\n",
    "# you'll need to comment the next two lines out if you're running in this ipython notebook\n",
    "#git config --global user.name \"John Doe\"\n",
    "#git config --global user.email \"johndoe@uw.edu\""
   ]
  },
  {
   "cell_type": "markdown",
   "metadata": {
    "slideshow": {
     "slide_type": "fragment"
    }
   },
   "source": [
    "Check the config file again to be sure (again, without the ! at the beginning if running in your terminal):"
   ]
  },
  {
   "cell_type": "code",
   "execution_count": null,
   "metadata": {
    "slideshow": {
     "slide_type": "fragment"
    }
   },
   "outputs": [],
   "source": [
    "!cat ~/.gitconfig"
   ]
  },
  {
   "cell_type": "markdown",
   "metadata": {
    "slideshow": {
     "slide_type": "fragment"
    }
   },
   "source": [
    "Github offers in its help pages instructions on how to configure the credentials helper for [Mac OSX](https://help.github.com/articles/set-up-git#platform-mac) and [Windows](https://help.github.com/articles/set-up-git#platform-windows)."
   ]
  },
  {
   "cell_type": "markdown",
   "metadata": {
    "slideshow": {
     "slide_type": "skip"
    }
   },
   "source": [
    "<a id=\"add-remote\"></a>"
   ]
  },
  {
   "cell_type": "markdown",
   "metadata": {
    "slideshow": {
     "slide_type": "slide"
    }
   },
   "source": [
    "## Using remotes as a single user"
   ]
  },
  {
   "cell_type": "markdown",
   "metadata": {
    "slideshow": {
     "slide_type": "fragment"
    }
   },
   "source": [
    "Lets now connect our local repository to a *remote repository*: a pointer to another copy of the repository that lives on a different location (e.g. on GitHub)."
   ]
  },
  {
   "cell_type": "markdown",
   "metadata": {
    "slideshow": {
     "slide_type": "slide"
    }
   },
   "source": [
    "### ``git remote``: view/modify remote repositories"
   ]
  },
  {
   "cell_type": "code",
   "execution_count": null,
   "metadata": {
    "slideshow": {
     "slide_type": "fragment"
    }
   },
   "outputs": [],
   "source": [
    "%%bash\n",
    "# move into the repo; not applicable if working in a terminal and already in test folder\n",
    "cd test\n",
    "\n",
    "# list out what we have in the folder\n",
    "ls\n",
    "\n",
    "# check the remotes\n",
    "echo \"Let's see if we have any remote repositories here:\"\n",
    "git remote -v"
   ]
  },
  {
   "cell_type": "markdown",
   "metadata": {
    "slideshow": {
     "slide_type": "fragment"
    }
   },
   "source": [
    "Since the above cell didn't produce any output after the `git remote -v` call, it means we have no remote repositories configured."
   ]
  },
  {
   "cell_type": "markdown",
   "metadata": {
    "slideshow": {
     "slide_type": "slide"
    }
   },
   "source": [
    "### Configuring a remote\n",
    "Go to the [new repository page](https://github.com/new) and make a repository called `test` (you can stick with the default of a Public repository).\n",
    "\n",
    "Do **not** check the box that says `Initialize this repository with a README`, since we already have an existing repository locally.  That option is useful when you're starting first at Github and don't have a repo made already on a local computer.\n",
    "\n"
   ]
  },
  {
   "cell_type": "markdown",
   "metadata": {
    "slideshow": {
     "slide_type": "slide"
    }
   },
   "source": [
    "We can now follow the instructions mentioned in the repo page, and add the remote to our local repo:"
   ]
  },
  {
   "cell_type": "code",
   "execution_count": null,
   "metadata": {
    "slideshow": {
     "slide_type": "fragment"
    }
   },
   "outputs": [],
   "source": [
    "%%bash\n",
    "# move into the repo; not applicable if working in a terminal and already in test folder\n",
    "cd test\n",
    "\n",
    "# update the url link to include your github username\n",
    "git remote add origin git@github.com:<your-github-username>/test.git"
   ]
  },
  {
   "cell_type": "markdown",
   "metadata": {
    "slideshow": {
     "slide_type": "fragment"
    }
   },
   "source": [
    "Let's see the remote situation again:"
   ]
  },
  {
   "cell_type": "code",
   "execution_count": null,
   "metadata": {
    "slideshow": {
     "slide_type": "fragment"
    }
   },
   "outputs": [],
   "source": [
    "%%bash\n",
    "# move into the repo; not applicable if working in a terminal and already in test folder\n",
    "cd test\n",
    "\n",
    "# check remotes again\n",
    "git remote -v"
   ]
  },
  {
   "cell_type": "markdown",
   "metadata": {
    "slideshow": {
     "slide_type": "fragment"
    }
   },
   "source": [
    "$~~~~~~~~~~~~~$\n",
    "\n",
    "A few things to note here:\n",
    "- The remote is named `origin` by default. This name will play a role when you push/pull form _this_ remote.\n",
    "- The permissions you have for this remote are lised in parathesis. Since you have full access to the repo, you can push and pull (similar to fetch, as mentioned above)."
   ]
  },
  {
   "cell_type": "markdown",
   "metadata": {
    "slideshow": {
     "slide_type": "slide"
    }
   },
   "source": [
    "### Pushing changes to a remote repository\n",
    "\n",
    "Now push the ``master`` branch to the remote named ``origin``."
   ]
  },
  {
   "cell_type": "code",
   "execution_count": null,
   "metadata": {},
   "outputs": [],
   "source": [
    "%%bash\n",
    "# move into the repo; not applicable if working in a terminal and already in test folder\n",
    "cd test\n",
    "\n",
    "git status"
   ]
  },
  {
   "cell_type": "code",
   "execution_count": null,
   "metadata": {
    "slideshow": {
     "slide_type": "fragment"
    }
   },
   "outputs": [],
   "source": [
    "%%bash\n",
    "# move into the repo; not applicable if working in a terminal and already in test folder\n",
    "cd test\n",
    "\n",
    "# push local changes to the remote named origin\n",
    "### NOTE: if you set up a passphrase for your GitHub RSA, running the following will throw an error\n",
    "##        so please run the following in your terminal after cd'ing into test\n",
    "git push origin master"
   ]
  },
  {
   "cell_type": "markdown",
   "metadata": {
    "slideshow": {
     "slide_type": "fragment"
    }
   },
   "source": [
    "We should be able to now see your local contents in the repo publicly on github."
   ]
  },
  {
   "cell_type": "markdown",
   "metadata": {
    "slideshow": {
     "slide_type": "skip"
    }
   },
   "source": [
    "<a id=\"sync\"></a>"
   ]
  },
  {
   "cell_type": "markdown",
   "metadata": {
    "slideshow": {
     "slide_type": "slide"
    }
   },
   "source": [
    "### Using Git to Sync Work\n",
    "\n",
    "Let's see how this can be useful for backup and syncing work between two different computers.  We'll simulate a 2nd computer by working in a different directory..."
   ]
  },
  {
   "cell_type": "code",
   "execution_count": null,
   "metadata": {
    "slideshow": {
     "slide_type": "fragment"
    }
   },
   "outputs": [],
   "source": [
    "%%bash\n",
    "\n",
    "# here we clone our 'test' repo but with a different name, test2, to simulate a 2nd computer\n",
    "git clone https://github.com/<your-github-username>/test.git test2\n",
    "# move into the new clone\n",
    "cd test2\n",
    "\n",
    "# print out the path\n",
    "pwd\n",
    "\n",
    "# list the remote\n",
    "git remote -v"
   ]
  },
  {
   "cell_type": "markdown",
   "metadata": {
    "slideshow": {
     "slide_type": "fragment"
    }
   },
   "source": [
    "Let's now make some changes in one 'computer' and synchronize them on the second."
   ]
  },
  {
   "cell_type": "code",
   "execution_count": null,
   "metadata": {
    "slideshow": {
     "slide_type": "fragment"
    }
   },
   "outputs": [],
   "source": [
    "%%bash\n",
    "# move into the 2nd repo; not applicable if working in a terminal and already in test2 folder\n",
    "cd test2  # working on computer #2\n",
    "\n",
    "# create a new file and commit it\n",
    "echo \"More new content on my experiment.\" >> experiment.txt\n",
    "git add 'experiment.txt'\n",
    "git commit -m \"More work, on machine #2.\""
   ]
  },
  {
   "cell_type": "markdown",
   "metadata": {
    "slideshow": {
     "slide_type": "slide"
    }
   },
   "source": [
    "Now we put our new work up on the GitHub server so it's available from the internet."
   ]
  },
  {
   "cell_type": "code",
   "execution_count": null,
   "metadata": {
    "slideshow": {
     "slide_type": "fragment"
    }
   },
   "outputs": [],
   "source": [
    "%%bash\n",
    "# move into the 2nd repo; not applicable if working in a terminal and already in test2 folder\n",
    "cd test2\n",
    "\n",
    "# push the local changes to the master branch on the remote named origin\n",
    "### NOTE: if you set up a passphrase for your GitHub RSA, running the following will throw an error\n",
    "##        so please run the following in your terminal after cd'ing into test2\n",
    "git push origin master"
   ]
  },
  {
   "cell_type": "markdown",
   "metadata": {
    "slideshow": {
     "slide_type": "slide"
    }
   },
   "source": [
    "### Now let's pull that work from machine #1:"
   ]
  },
  {
   "cell_type": "code",
   "execution_count": null,
   "metadata": {
    "slideshow": {
     "slide_type": "fragment"
    }
   },
   "outputs": [],
   "source": [
    "%%bash\n",
    "# move into the first repo\n",
    "cd test\n",
    "\n",
    "# pull from the master branch of the remote named origin\n",
    "### NOTE: if you set up a passphrase for your GitHub RSA, running the following will throw an error\n",
    "##        so please run the following in your terminal after cd'ing into test\n",
    "git pull origin master"
   ]
  },
  {
   "cell_type": "markdown",
   "metadata": {
    "slideshow": {
     "slide_type": "skip"
    }
   },
   "source": [
    "<a id=\"conflict\"></a>"
   ]
  },
  {
   "cell_type": "markdown",
   "metadata": {
    "slideshow": {
     "slide_type": "slide"
    }
   },
   "source": [
    "## Conflict management\n",
    "While git is very good at merging, if two different branches modify the same file in the same location, it simply can't decide which change should prevail.  At that point, human intervention is necessary to make the decision.  Git will help you by marking the location in the file that has a problem, but it's up to you to resolve the conflict.  Let's see how that works by intentionally creating a conflict.\n",
    "\n",
    "We start by **creating a branch** and making a change to our experiment file:"
   ]
  },
  {
   "cell_type": "code",
   "execution_count": null,
   "metadata": {
    "slideshow": {
     "slide_type": "fragment"
    }
   },
   "outputs": [],
   "source": [
    "%%bash\n",
    "# move into the first repo; not applicable if working in a terminal and already in test folder\n",
    "cd test\n",
    "\n",
    "# create a new branch; name it trouble\n",
    "git branch trouble\n",
    "# move to the new branch\n",
    "git checkout trouble\n",
    "\n",
    "# create a file\n",
    "echo \"This is going to be a problem...\" >> experiment.txt\n",
    "\n",
    "# add and commit to this branch\n",
    "git add 'experiment.txt'\n",
    "git commit -m \"Changes in the trouble branch.\""
   ]
  },
  {
   "cell_type": "markdown",
   "metadata": {
    "slideshow": {
     "slide_type": "slide"
    }
   },
   "source": [
    "And now we go back to the master branch, where we change the *same* file:"
   ]
  },
  {
   "cell_type": "code",
   "execution_count": null,
   "metadata": {
    "slideshow": {
     "slide_type": "fragment"
    }
   },
   "outputs": [],
   "source": [
    "%%bash\n",
    "# move into the repo; not applicable if working in a terminal and already in test folder\n",
    "cd test\n",
    "\n",
    "# move to the master branch\n",
    "git checkout master\n",
    "\n",
    "# add to the file and commit changes\n",
    "echo \"More work on the master branch...\" >> experiment.txt\n",
    "\n",
    "git add 'experiment.txt'\n",
    "git commit -m \"Added content in master.\""
   ]
  },
  {
   "cell_type": "code",
   "execution_count": null,
   "metadata": {
    "slideshow": {
     "slide_type": "fragment"
    }
   },
   "outputs": [],
   "source": [
    "%%bash\n",
    "# move into the repo; not applicable if working in a terminal and already in test folder\n",
    "cd test\n",
    "\n",
    "# check status\n",
    "git status"
   ]
  },
  {
   "cell_type": "markdown",
   "metadata": {
    "slideshow": {
     "slide_type": "slide"
    }
   },
   "source": [
    "### The conflict...\n",
    "\n",
    "So now let's see what happens if we try to merge the `trouble` branch into `master`:"
   ]
  },
  {
   "cell_type": "code",
   "execution_count": null,
   "metadata": {
    "slideshow": {
     "slide_type": "fragment"
    }
   },
   "outputs": [],
   "source": [
    "%%bash\n",
    "# move into the repo; not applicable if working in a terminal and already in test folder\n",
    "cd test\n",
    "\n",
    "# try merging the branch trouble into the branch master\n",
    "### NOTE: running the following will throw an error but its okay. the main point is that\n",
    "##        you should see a message mentioning that git has noticed a conflict\n",
    "git merge trouble"
   ]
  },
  {
   "cell_type": "code",
   "execution_count": null,
   "metadata": {
    "slideshow": {
     "slide_type": "fragment"
    }
   },
   "outputs": [],
   "source": [
    "%%bash\n",
    "# move into the repo; not applicable if working in a terminal and already in test folder\n",
    "cd test\n",
    "\n",
    "# get status\n",
    "git status"
   ]
  },
  {
   "cell_type": "markdown",
   "metadata": {
    "slideshow": {
     "slide_type": "slide"
    }
   },
   "source": [
    "### Let's see what git has put into our file:"
   ]
  },
  {
   "cell_type": "code",
   "execution_count": null,
   "metadata": {
    "slideshow": {
     "slide_type": "fragment"
    }
   },
   "outputs": [],
   "source": [
    "%%bash\n",
    "# move into the repo; not applicable if working in a terminal and already in test folder\n",
    "cd test\n",
    "\n",
    "# lets look into the file\n",
    "cat experiment.txt"
   ]
  },
  {
   "cell_type": "code",
   "execution_count": null,
   "metadata": {
    "slideshow": {
     "slide_type": "fragment"
    }
   },
   "outputs": [],
   "source": [
    "%%bash\n",
    "# move into the repo; not applicable if working in a terminal and already in test folder\n",
    "cd test\n",
    "\n",
    "# git diff should show the changes more clearly; helpful when the file in conflict is long\n",
    "# and you just want to know the conflict\n",
    "git diff"
   ]
  },
  {
   "cell_type": "markdown",
   "metadata": {
    "slideshow": {
     "slide_type": "fragment"
    }
   },
   "source": [
    "At this point, since we have a short file, we can go just into the file with a text editor (e.g. via your terminal), decide which changes to keep, and make a new commit that records our decision. For simplicity, you could keep all the changes, alongside adding a note re the conflict mgmt. Dont forget to remove the conflict markers <<<<<<<, =======, >>>>>>>."
   ]
  },
  {
   "cell_type": "markdown",
   "metadata": {
    "slideshow": {
     "slide_type": "slide"
    }
   },
   "source": [
    "Lets look at our cleaned, conflict-free file:"
   ]
  },
  {
   "cell_type": "code",
   "execution_count": null,
   "metadata": {
    "slideshow": {
     "slide_type": "fragment"
    }
   },
   "outputs": [],
   "source": [
    "%%bash\n",
    "# move into the repo; not applicable if working in a terminal and already in test folder\n",
    "cd test\n",
    "\n",
    "# look at the new file content\n",
    "cat experiment.txt"
   ]
  },
  {
   "cell_type": "markdown",
   "metadata": {
    "slideshow": {
     "slide_type": "fragment"
    }
   },
   "source": [
    "Let's then make our new commit:"
   ]
  },
  {
   "cell_type": "code",
   "execution_count": null,
   "metadata": {
    "slideshow": {
     "slide_type": "fragment"
    }
   },
   "outputs": [],
   "source": [
    "%%bash\n",
    "# move into the repo; not applicable if working in a terminal and already in test folder\n",
    "cd test\n",
    "\n",
    "# add commit the file\n",
    "git add 'experiment.txt'\n",
    "git commit -m \"Completed merge of trouble, fixing conflicts along the way.\"\n",
    "\n",
    "# lets check the log now; note: the additional markers help demonstrate the workflow\n",
    "git log --oneline --topo-order --graph"
   ]
  },
  {
   "cell_type": "markdown",
   "metadata": {},
   "source": [
    "**Note: you can add an alias in your gitconfig so that e.g. `git slog` would run `git log --oneline --topo-order --graph`.** You can do this by running `git config --global alias.slog \"log --oneline --topo-order --graph\"`."
   ]
  },
  {
   "cell_type": "markdown",
   "metadata": {
    "slideshow": {
     "slide_type": "slide"
    }
   },
   "source": [
    "### Merge Tools\n",
    "\n",
    "*Note:* While it's a good idea to understand the basics of fixing merge conflicts by hand, in some cases you may find the use of an automated tool useful.\n",
    "\n",
    "Git supports multiple [merge tools](https://www.kernel.org/pub/software/scm/git/docs/git-mergetool.html): a merge tool is a piece of software that conforms to a basic interface and knows how to merge two files into a new one.  Since these are typically graphical tools, there are various to choose from for the different operating systems, and as long as they obey a basic command structure, git can work with any of them."
   ]
  }
 ],
 "metadata": {
  "celltoolbar": "Slideshow",
  "kernelspec": {
   "display_name": "Python 3",
   "language": "python",
   "name": "python3"
  },
  "language_info": {
   "codemirror_mode": {
    "name": "ipython",
    "version": 3
   },
   "file_extension": ".py",
   "mimetype": "text/x-python",
   "name": "python",
   "nbconvert_exporter": "python",
   "pygments_lexer": "ipython3",
   "version": "3.7.3"
  }
 },
 "nbformat": 4,
 "nbformat_minor": 1
}
